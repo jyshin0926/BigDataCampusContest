{
  "nbformat": 4,
  "nbformat_minor": 0,
  "metadata": {
    "colab": {
      "name": "우리동네키움포털_크롤링.ipynb",
      "provenance": [],
      "collapsed_sections": []
    },
    "kernelspec": {
      "name": "python3",
      "display_name": "Python 3"
    }
  },
  "cells": [
    {
      "cell_type": "code",
      "metadata": {
        "id": "SscuGPfYFsUV",
        "outputId": "6c706d02-11ba-4afb-fe5d-31876f83f4ed",
        "colab": {
          "base_uri": "https://localhost:8080/",
          "height": 156
        }
      },
      "source": [
        "# 사용할 라이브러리\n",
        "\n",
        "import pandas as pd\n",
        "import numpy as np\n",
        "import re\n",
        "import os\n",
        "import warnings\n",
        "warnings.filterwarnings(action='ignore')\n",
        "\n",
        "import datetime \n",
        "import importlib\n",
        "import json\n",
        "from datetime import datetime\n",
        "\n",
        "import webbrowser\n",
        "\n",
        "!apt install chromium-chromedriver\n",
        "!pip install selenium\n",
        "\n",
        "from selenium import webdriver\n",
        "options = webdriver.ChromeOptions()\n",
        "options.add_argument('--headless')\n",
        "options.add_argument('--no-sandbox')\n",
        "options.add_argument('--disable-dev-shm-usage')\n",
        "\n",
        "from bs4 import BeautifulSoup\n",
        "import numpy as np\n",
        "\n",
        "!pip install kora -q\n",
        "from kora.selenium import wd"
      ],
      "execution_count": null,
      "outputs": [
        {
          "output_type": "stream",
          "text": [
            "Reading package lists... Done\n",
            "Building dependency tree       \n",
            "Reading state information... Done\n",
            "chromium-chromedriver is already the newest version (85.0.4183.121-0ubuntu0.18.04.1).\n",
            "0 upgraded, 0 newly installed, 0 to remove and 23 not upgraded.\n",
            "Requirement already satisfied: selenium in /usr/local/lib/python3.6/dist-packages (3.141.0)\n",
            "Requirement already satisfied: urllib3 in /usr/local/lib/python3.6/dist-packages (from selenium) (1.24.3)\n"
          ],
          "name": "stdout"
        }
      ]
    },
    {
      "cell_type": "code",
      "metadata": {
        "id": "WWGyyOEMFtfT",
        "outputId": "138901bf-10e6-460c-f357-758134a17244",
        "colab": {
          "base_uri": "https://localhost:8080/",
          "height": 54
        }
      },
      "source": [
        "from google.colab import drive\n",
        "drive.mount('/content/gdrive')\n",
        "driver = webdriver.Chrome('chromedriver',options=options)\n",
        "driver.get('https://icare.seoul.go.kr/icare/user/careResve/BD_selectChilCareResveList.do')\n",
        "html = driver.page_source\n",
        "soup = BeautifulSoup(html, 'html.parser')"
      ],
      "execution_count": null,
      "outputs": [
        {
          "output_type": "stream",
          "text": [
            "Drive already mounted at /content/gdrive; to attempt to forcibly remount, call drive.mount(\"/content/gdrive\", force_remount=True).\n"
          ],
          "name": "stdout"
        }
      ]
    },
    {
      "cell_type": "code",
      "metadata": {
        "id": "3CmbgL8t_Um9",
        "outputId": "d5e63531-90bc-4941-d9b6-792d77f01aa7",
        "colab": {
          "base_uri": "https://localhost:8080/",
          "height": 69
        }
      },
      "source": [
        "addr = str(soup.findAll('p', attrs={'class':'bb_addr ellipsis'}))\n",
        "addr = re.sub('<.+?>|\\t|\\n|\\r|/|\\)|\\(', '', addr, 0).strip()\n",
        "addr"
      ],
      "execution_count": null,
      "outputs": [
        {
          "output_type": "execute_result",
          "data": {
            "application/vnd.google.colaboratory.intrinsic+json": {
              "type": "string"
            },
            "text/plain": [
              "'[서울특별시 강남구 광평로 185, 서울특별시 강남구 논현로64길 7, 서울특별시 강남구 영동대로131길 26, 서울특별시 강남구 밤고개로 231, 서울특별시 강동구 올림픽로98가길 28, 서울특별시 강서구 양천로67길 93-22, 서울특별시 강서구 금낭화로 162, 서울특별시 광진구 자양번영로 35]'"
            ]
          },
          "metadata": {
            "tags": []
          },
          "execution_count": 279
        }
      ]
    },
    {
      "cell_type": "code",
      "metadata": {
        "id": "TCrABdXyQuKL",
        "outputId": "262d60c1-89f6-466e-c5fd-b1871277a162",
        "colab": {
          "base_uri": "https://localhost:8080/",
          "height": 35
        }
      },
      "source": [
        "#center = soup.findAll('div ul li h5')\n",
        "center = soup.findAll('h5',attrs={'class':'bb_title'})\n",
        "care = soup.findAll('li', attrs={'class':'bb_con_p'})\n",
        "title = str(soup.find('p',attrs={'class':'board_info'}))\n",
        "\n",
        "title = re.sub('<.+?>|\\t|\\n|\\r|/|\\)|\\(', '', title, 0).strip().split()[-1]\n",
        "#care = soup.findAll('ul', attrs={'class':'bb_con'})\n",
        "title"
      ],
      "execution_count": null,
      "outputs": [
        {
          "output_type": "execute_result",
          "data": {
            "application/vnd.google.colaboratory.intrinsic+json": {
              "type": "string"
            },
            "text/plain": [
              "'12페이지'"
            ]
          },
          "metadata": {
            "tags": []
          },
          "execution_count": 89
        }
      ]
    },
    {
      "cell_type": "code",
      "metadata": {
        "id": "B9Y0p5fbn9MP"
      },
      "source": [
        "# print(driver.page_source)"
      ],
      "execution_count": null,
      "outputs": []
    },
    {
      "cell_type": "code",
      "metadata": {
        "id": "1DFz0ivFc8K3"
      },
      "source": [
        "import time\n",
        "from tqdm import tqdm"
      ],
      "execution_count": null,
      "outputs": []
    },
    {
      "cell_type": "code",
      "metadata": {
        "id": "uxAN-f3xPoC7",
        "outputId": "6dc886a3-2cfa-48b9-bd21-8ed5c2d16882",
        "colab": {
          "base_uri": "https://localhost:8080/",
          "height": 221
        }
      },
      "source": [
        "center_list,care_list,addr_list = [],[],[]\n",
        "\n",
        "def center_Scraping():\n",
        "  driver = webdriver.Chrome('chromedriver',options=options)  \n",
        "\n",
        "  for page in tqdm(range(1, 11)):\n",
        "      driver.get('http://icare.seoul.go.kr/icare/user/careResve/BD_selectChilCareResveList.do')\n",
        "      html = driver.page_source\n",
        "      soup = BeautifulSoup(html, 'html.parser')\n",
        "      time.sleep(1)\n",
        "\n",
        "      if page == 1:\n",
        "        center = soup.findAll('h5',attrs={'class':'bb_title'})\n",
        "        care = soup.findAll('li', attrs={'class':'bb_con_p'})\n",
        "        addr = soup.findAll('p', attrs={'class':'bb_addr ellipsis'})\n",
        "        center_list.append(re.sub('<.+?>|\\t|\\n|\\r|/|\\)|\\(', '',str(center), 0).strip())\n",
        "        care_list.append(re.sub('<.+?>|\\t|\\n|\\r|/|\\)|\\(', '',str(care), 0).strip())\n",
        "        addr_list.append(re.sub('<.+?>', '',str(addr), 0).strip())\n",
        "\n",
        "        driver.implicitly_wait(3)\n",
        "\n",
        "      else:\n",
        "        button = driver.find_element_by_css_selector(f'div.paging.mt_40 > ul > li:nth-child({page}) > a')\n",
        "        driver.execute_script(\"arguments[0].click();\",button)\n",
        "        time.sleep(3)\n",
        "        html = driver.page_source\n",
        "        soup = BeautifulSoup(html, 'html.parser')\n",
        "        time.sleep(1)\n",
        "        center = soup.findAll('h5',attrs={'class':'bb_title'})\n",
        "        #time.sleep(3)\n",
        "        care = soup.findAll('li', attrs={'class':'bb_con_p'})\n",
        "        #time.sleep(3)\n",
        "        addr = soup.findAll('p', attrs={'class':'bb_addr ellipsis'})\n",
        "\n",
        "        center_list.append(re.sub('<.+?>|\\t|\\n|\\r|/|\\)|\\(', '',str(center), 0).strip())\n",
        "        care_list.append(re.sub('<.+?>|\\t|\\n|\\r|/|\\)|\\(', '',str(care), 0).strip())\n",
        "        addr_list.append(re.sub('<.+?>', '',str(addr), 0).strip())\n",
        "\n",
        "        driver.implicitly_wait(3)\n",
        "\n",
        "  #searchForm > div.paging.mt_40 > ul > li.next_btn > a  # 11페이지\n",
        "  button = driver.find_element_by_css_selector('div.paging.mt_40 > ul > li.next_btn > a')\n",
        "  driver.execute_script(\"arguments[0].click();\",button)\n",
        "  time.sleep(3)\n",
        "  html = driver.page_source\n",
        "  soup = BeautifulSoup(html, 'html.parser')\n",
        "  time.sleep(1)\n",
        "  center = soup.findAll('h5',attrs={'class':'bb_title'})\n",
        "  #time.sleep(3)\n",
        "  care = soup.findAll('li', attrs={'class':'bb_con_p'})\n",
        "  addr = soup.findAll('p', attrs={'class':'bb_addr ellipsis'})\n",
        "\n",
        "  #time.sleep(3)\n",
        "  center_list.append(re.sub('<.+?>|\\t|\\n|\\r|/|\\)|\\(', '',str(center), 0).strip())\n",
        "  care_list.append(re.sub('<.+?>|\\t|\\n|\\r|/|\\)|\\(', '',str(care), 0).strip())\n",
        "  addr_list.append(re.sub('<.+?>', '',str(addr), 0).strip())\n",
        "\n",
        "\n",
        "  driver.implicitly_wait(3)\n",
        "\n",
        "  #searchForm > div.paging.mt_40 > ul > li:nth-child(4) > a  # 12페이지\n",
        "  button = driver.find_element_by_css_selector('div.paging.mt_40 > ul > li:nth-child(4) > a')\n",
        "  driver.execute_script(\"arguments[0].click();\",button)\n",
        "  time.sleep(3)\n",
        "  html = driver.page_source\n",
        "  soup = BeautifulSoup(html, 'html.parser')\n",
        "  time.sleep(1)\n",
        "  center = soup.findAll('h5',attrs={'class':'bb_title'})\n",
        "  #time.sleep(3)\n",
        "  care = soup.findAll('li', attrs={'class':'bb_con_p'})\n",
        "  addr = soup.findAll('p', attrs={'class':'bb_addr ellipsis'})\n",
        "  #time.sleep(3)\n",
        "  center_list.append(re.sub('<.+?>|\\t|\\n|\\r|/|\\)|\\(', '',str(center), 0).strip())\n",
        "  care_list.append(re.sub('<.+?>|\\t|\\n|\\r|/|\\)|\\(', '',str(care), 0).strip())\n",
        "  addr_list.append(re.sub('<.+?>', '',str(addr), 0).strip())\n",
        "\n",
        "  driver.implicitly_wait(3)           \n",
        "  driver.quit()\n",
        "\n",
        "                  \n",
        "center_Scraping()"
      ],
      "execution_count": null,
      "outputs": [
        {
          "output_type": "stream",
          "text": [
            "\n",
            "  0%|          | 0/10 [00:00<?, ?it/s]\u001b[A\n",
            " 10%|█         | 1/10 [00:02<00:24,  2.68s/it]\u001b[A\n",
            " 20%|██        | 2/10 [00:09<00:30,  3.85s/it]\u001b[A\n",
            " 30%|███       | 3/10 [00:15<00:32,  4.63s/it]\u001b[A\n",
            " 40%|████      | 4/10 [00:21<00:30,  5.12s/it]\u001b[A\n",
            " 50%|█████     | 5/10 [00:28<00:27,  5.47s/it]\u001b[A\n",
            " 60%|██████    | 6/10 [00:34<00:22,  5.68s/it]\u001b[A\n",
            " 70%|███████   | 7/10 [00:40<00:17,  5.84s/it]\u001b[A\n",
            " 80%|████████  | 8/10 [00:46<00:11,  5.95s/it]\u001b[A\n",
            " 90%|█████████ | 9/10 [00:53<00:06,  6.02s/it]\u001b[A\n",
            "100%|██████████| 10/10 [00:59<00:00,  5.94s/it]\n"
          ],
          "name": "stderr"
        }
      ]
    },
    {
      "cell_type": "code",
      "metadata": {
        "id": "BuIG8DTqdSdG",
        "outputId": "6f308b99-60d0-4212-dd95-368b987e4f31",
        "colab": {
          "base_uri": "https://localhost:8080/",
          "height": 241
        }
      },
      "source": [
        "center_list"
      ],
      "execution_count": null,
      "outputs": [
        {
          "output_type": "execute_result",
          "data": {
            "text/plain": [
              "['[강남1호점 우리동네키움센터강남 다함께키움센터태화, 강남2호점 우리동네키움센터강남 다함께키움센터역삼, 강남3호점 우리동네키움센터강남 다함께키움센터청담, 강남4호점 우리동네키움센터미미위 세곡 키움센터, 강동1호점 우리동네키움센터상상나루來키움센터, 강서1호점 우리동네키움센터염창동, 강서2호점 우리동네키움센터방화3동, 광진1호점 우리동네키움센터]',\n",
              " '[광진2호점 우리동네키움센터꿈 정함, 구로1호점 우리동네키움센터개봉3동, 구로2호점 우리동네키움센터구로5동, 구로3호점 우리동네키움센터구로2동, 구로4호점 우리동네키움센터구로1동, 구로5호점 우리동네키움센터천왕동, 구로6호점 우리동네키움센터고척1동, 구로7호점 융합형 우리동네키움센터]',\n",
              " '[구로8호점 우리동네키움센터고척2동, 노원10호점 우리동네키움센터공릉라이프아이휴센터, 노원11호점 우리동네키움센터산마루아이휴센터, 노원12호점 우리동네키움센터은빛1단지아이휴센터, 노원13호점 우리동네키움센터월계극동아이휴센터, 노원14호점 우리동네키움센터상계15단지 아이휴센터, 노원15호점 우리동네키움센터상계동아불암 아이휴센터, 노원16호점 우리동네키움센터상계다락 아이휴센터]',\n",
              " '[노원17호점 우리동네키움센터상계6단지 아이휴센터, 노원18호점 우리동네키움센터상계1단지 아이휴센터, 노원19호점 우리동네키움센터중계무지개 아이휴센터, 노원1호점 우리동네키움센터월계문화아이휴센터, 노원20호점 우리동네키움센터상계두산 융합형 아이휴센터, 노원21호점 우리동네키움센터상계12단지 아이휴센터, 노원22호점 우리동네키움센터상계보람2단지 아이휴센터, 노원2호점 우리동네키움센터상계10단지아이휴센터]',\n",
              " '[노원3호점 우리동네키움센터상계5동간촌아이휴센터, 노원4호점 우리동네키움센터달빛마실아이휴센터, 노원5호점 우리동네키움센터상계3단지아이휴센터, 노원6호점 우리동네키움센터공릉태강아이휴센터, 노원7호점 우리동네키움센터하계극동아이휴센터, 노원8호점 우리동네키움센터월계그랑빌아이휴센터, 노원9호점 우리동네키움센터상계7단지아이휴센터, 도봉2호점 우리동네키움센터도봉1동 별별키움센터]',\n",
              " '[도봉3호점 우리동네키움센터도봉2동 별별키움센터, 도봉4호점 우리동네키움센터창1동 별별키움센터, 동대문1호점 우리동네키움센터희망 , 동대문2호점 우리동네키움센터라온 , 동작1호점 우리동네키움센터노량진2동, 동작2호점 우리동네키움센터신대방1동, 동작3호점 우리동네키움센터사당5동, 마포1호점 우리동네키움센터성산2동]',\n",
              " '[마포2호점 우리동네키움센터망원1동, 서대문1호점 우리동네키움센터북가좌 우리동네키움센터 친구랑, 서초1호점 우리동네키움센터서초구립 우면동 초등키움센터, 성동10호점 우리동네키움센터금호대우 아이꿈누리터, 성동1호점 우리동네키움센터스위첸아이꿈누리터, 성동2호점 우리동네키움센터왕십리도선동아이꿈누리터, 성동3호점 우리동네키움센터마장아이꿈누리터, 성동4호점 우리동네키움센터응봉아이꿈누리터]',\n",
              " '[성동5호점 우리동네키움센터성수복지관아이꿈누리터, 성동6호점 우리동네키움센터성수쌍용아이꿈누리터, 성동7호점 우리동네키움센터옥수복지관아이꿈누리터, 성동8호점 우리동네키움센터성동복지관아이꿈누리터, 성동9호점 우리동네키움센터사근동아이꿈누리터, 성북1호점 우리동네키움센터별별재미난교실, 송파1호점 우리동네키움센터잠실본동 송파키움센터, 송파2호점 우리동네키움센터송파1동 송파키움센터]',\n",
              " '[송파3호점 우리동네키움센터삼전동 송파키움센터, 송파4호점 우리동네키움센터가락1동 송파키움센터, 송파5호점 우리동네키움센터가락본동 송파키움센터, 송파6호점 우리동네키움센터문정2동 송파키움센터, 양천1호점 우리동네키움센터, 영등포1호점 우리동네키움센터영등포본동 아이랜드, 영등포2호점 우리동네키움센터당산1동 아이랜드, 영등포3호점 우리동네키움센터대림1동 아이랜드]',\n",
              " '[영등포4호점 우리동네키움센터문래동 아이랜드, 영등포5호점 우리동네키움센터여의동 아이랜드, 용산1호점 우리동네키움센터, 용산2호점 우리동네키움센터, 용산3호점 우리동네키움센터, 용산4호점 우리동네키움센터, 용산5호점 우리동네키움센터, 용산6호점 우리동네키움센터]',\n",
              " '[은평1호점 우리동네키움센터진관, 은평2호점 우리동네키움센터갈현, 은평3호점 우리동네키움센터응암, 은평4호점 우리동네키움센터역촌, 종로1호점 우리동네키움센터, 중구1호점 우리동네키움센터모든아이 신당센터, 중구2호점 우리동네키움센터모든아이 중림센터, 중구3호점 우리동네키움센터모든아이 손기정센터]',\n",
              " '[중구4호점 우리동네키움센터모든아이 약수센터, 중구5호점 우리동네키움센터모든아이 신당5동센터, 중랑1호점 신내동우리동네키움센터중랑아동돌봄센터]']"
            ]
          },
          "metadata": {
            "tags": []
          },
          "execution_count": 281
        }
      ]
    },
    {
      "cell_type": "code",
      "metadata": {
        "id": "HpfcxgvW1MRj",
        "outputId": "5a105794-baa2-4fac-9a67-d8c262afc8b1",
        "colab": {
          "base_uri": "https://localhost:8080/",
          "height": 241
        }
      },
      "source": [
        "care_list"
      ],
      "execution_count": null,
      "outputs": [
        {
          "output_type": "execute_result",
          "data": {
            "text/plain": [
              "['[상시 돌봄45명, 일시 돌봄3명, 상시 돌봄20명, 일시 돌봄4명, 상시 돌봄20명, 일시 돌봄4명, 상시 돌봄25명, 일시 돌봄5명, 상시 돌봄20명, 일시 돌봄4명, 상시 돌봄25명, 일시 돌봄5명, 상시 돌봄20명, 일시 돌봄0명, 상시 돌봄20명, 일시 돌봄4명]',\n",
              " '[상시 돌봄20명, 일시 돌봄4명, 상시 돌봄20명, 일시 돌봄4명, 상시 돌봄20명, 일시 돌봄4명, 상시 돌봄20명, 일시 돌봄4명, 상시 돌봄20명, 일시 돌봄4명, 상시 돌봄34명, 일시 돌봄7명, 상시 돌봄20명, 일시 돌봄4명, 상시 돌봄30명, 일시 돌봄6명]',\n",
              " '[상시 돌봄0명, 일시 돌봄0명, 상시 돌봄23명, 일시 돌봄4명, 상시 돌봄40명, 일시 돌봄8명, 상시 돌봄21명, 일시 돌봄4명, 상시 돌봄28명, 일시 돌봄4명, 상시 돌봄28명, 일시 돌봄6명, 상시 돌봄32명, 일시 돌봄6명, 상시 돌봄25명, 일시 돌봄5명]',\n",
              " '[상시 돌봄40명, 일시 돌봄8명, 상시 돌봄25명, 일시 돌봄5명, 상시 돌봄21명, 일시 돌봄4명, 상시 돌봄20명, 일시 돌봄4명, 상시 돌봄40명, 일시 돌봄8명, 상시 돌봄21명, 일시 돌봄4명, 상시 돌봄21명, 일시 돌봄4명, 상시 돌봄20명, 일시 돌봄4명]',\n",
              " '[상시 돌봄28명, 일시 돌봄5명, 상시 돌봄20명, 일시 돌봄4명, 상시 돌봄23명, 일시 돌봄4명, 상시 돌봄20명, 일시 돌봄4명, 상시 돌봄25명, 일시 돌봄5명, 상시 돌봄24명, 일시 돌봄4명, 상시 돌봄20명, 일시 돌봄4명, 상시 돌봄20명, 일시 돌봄4명]',\n",
              " '[상시 돌봄20명, 일시 돌봄4명, 상시 돌봄20명, 일시 돌봄4명, 상시 돌봄30명, 일시 돌봄6명, 상시 돌봄20명, 일시 돌봄4명, 상시 돌봄30명, 일시 돌봄6명, 상시 돌봄30명, 일시 돌봄6명, 상시 돌봄20명, 일시 돌봄4명, 상시 돌봄25명, 일시 돌봄5명]',\n",
              " '[상시 돌봄25명, 일시 돌봄5명, 상시 돌봄20명, 일시 돌봄4명, 상시 돌봄20명, 일시 돌봄4명, 상시 돌봄20명, 일시 돌봄4명, 상시 돌봄20명, 일시 돌봄4명, 상시 돌봄15명, 일시 돌봄3명, 상시 돌봄27명, 일시 돌봄5명, 상시 돌봄20명, 일시 돌봄4명]',\n",
              " '[상시 돌봄20명, 일시 돌봄4명, 상시 돌봄15명, 일시 돌봄3명, 상시 돌봄20명, 일시 돌봄4명, 상시 돌봄20명, 일시 돌봄4명, 상시 돌봄15명, 일시 돌봄3명, 상시 돌봄29명, 일시 돌봄5명, 상시 돌봄20명, 일시 돌봄4명, 상시 돌봄20명, 일시 돌봄4명]',\n",
              " '[상시 돌봄20명, 일시 돌봄4명, 상시 돌봄20명, 일시 돌봄4명, 상시 돌봄30명, 일시 돌봄6명, 상시 돌봄25명, 일시 돌봄5명, 상시 돌봄25명, 일시 돌봄5명, 상시 돌봄20명, 일시 돌봄4명, 상시 돌봄25명, 일시 돌봄5명, 상시 돌봄20명, 일시 돌봄4명]',\n",
              " '[상시 돌봄25명, 일시 돌봄5명, 상시 돌봄25명, 일시 돌봄5명, 상시 돌봄25명, 일시 돌봄5명, 상시 돌봄20명, 일시 돌봄4명, 상시 돌봄20명, 일시 돌봄4명, 상시 돌봄40명, 일시 돌봄8명, 상시 돌봄20명, 일시 돌봄4명, 상시 돌봄0명, 일시 돌봄0명]',\n",
              " '[상시 돌봄20명, 일시 돌봄4명, 상시 돌봄20명, 일시 돌봄4명, 상시 돌봄20명, 일시 돌봄4명, 상시 돌봄20명, 일시 돌봄4명, 상시 돌봄20명, 일시 돌봄4명, 상시 돌봄30명, 일시 돌봄6명, 상시 돌봄40명, 일시 돌봄8명, 상시 돌봄40명, 일시 돌봄8명]',\n",
              " '[상시 돌봄80명, 일시 돌봄16명, 상시 돌봄30명, 일시 돌봄6명, 상시 돌봄22명, 일시 돌봄4명]']"
            ]
          },
          "metadata": {
            "tags": []
          },
          "execution_count": 283
        }
      ]
    },
    {
      "cell_type": "code",
      "metadata": {
        "id": "Q8VRZw6X590S",
        "outputId": "bedc35cf-c6c8-4c44-d6c6-a8682e3baf15",
        "colab": {
          "base_uri": "https://localhost:8080/",
          "height": 241
        }
      },
      "source": [
        "addr_list"
      ],
      "execution_count": null,
      "outputs": [
        {
          "output_type": "execute_result",
          "data": {
            "text/plain": [
              "['[서울특별시 강남구 광평로 185, 서울특별시 강남구 논현로64길 7, 서울특별시 강남구 영동대로131길 26, 서울특별시 강남구 밤고개로 231, 서울특별시 강동구 올림픽로98가길 28, 서울특별시 강서구 양천로67길 93-22, 서울특별시 강서구 금낭화로 162, 서울특별시 광진구 자양번영로 35]',\n",
              " '[서울특별시 광진구 자양로3가길 28, 서울특별시 구로구 개봉로11나길 23 , 서울특별시 구로구 구로중앙로34길 67, 서울특별시 구로구 벚꽃로 484, 서울특별시 구로구 구일로4길 46, 서울특별시 구로구 천왕로 21, 서울특별시 구로구 중앙로1길 18-19, 서울특별시 구로구 디지털로32가길 50]',\n",
              " '[서울특별시 구로구 중앙로15길 80, 서울시 노원구 섬밭로 123, 서울특별시 노원구 중계로14바길 43, 서울특별시 노원구 동일로245길 162, 서울특별시 노원구 덕릉로60길 266, 서울특별시 노원구 동일로227길 26, 서울특별시 노원구 덕릉로 780, 서울특별시 노원구 한글비석로 426-12]',\n",
              " '[서울특별시 노원구 노해로 508, 서울특별시 노원구 동일로213길 21, 서울특별시 노원구 동일로208길 19, 서울특별시 노원구 월계로42길 9, 서울특별시 노원구 동일로241길 53, 서울특별시 노원구 한글비석로 530, 서울특별시 노원구 한글비석로 480, 서울특별시 노원구 노원로 564]',\n",
              " '[서울특별시 노원구 한글비석로49길 36, 서울특별시 노원구 광운로13길 9, 서울특별시 노원구 동일로 215길 48 (상계주공3단지아파트), 서울시 노원구 공릉로 34길 62 태강아파트 , 서울특별시 노원구 섬밭로 229, 서울특별시 노원구 마들로 31, 서울특별시 노원구 동일로 1456, 서울시 도봉구 도봉로 175길 10]',\n",
              " '[서울특별시 도봉구 마들로 859-19, 서울특별시 도봉구 해등로 50, 서울특별시 동대문구 무학로 133, 서울특별시 동대문구 답십리로63길 73, 서울특별시 동작구 장승배기로 19길 50, 서울특별시 동작구 신대방2길 42-10, 서울특별시 동작구 사당로 154, 서울특별시 마포구 월드컵로 36길52,]',\n",
              " '[서울시 마포구 희우정로 77 , 서울특별시 서대문구 거북골로 195-1, 서울특별시 서초구 양재대로2길 116-19, 서울특별시 성동구 독서당로 272, 서울특별시 성동구 무학봉길 35 KCC스위첸아파트, 서울특별시 성동구 마장로 141, 서울특별시 성동구 마장로39길 33, 서울특별시 성동구 독서당로 381 ]',\n",
              " '[서울특별시 성동구 뚝섬로1길 43, 서울특별시 성동구 상원길63 쌍용아파트, 서울특별시 성동구 한림말길 16-5, 서울특별시 성동구 청계천로 506, 서울특별시 성동구 사근동길 37, 서울시 성북구 돌곶이로 37길 32-4, 서울특별시 송파구 올림픽로8길 22, 서울특별시 송파구 백제고분로 42길 5 ]',\n",
              " '[서울특별시 송파구 백제고분로32길 35, 서울특별시 송파구 양재대로 925, 서울특별시 송파구 오금로36길 36, 서울특별시 송파구 중대로4길 4, 서울특별시 양천구 신정로11길 20, 서울특별시 영등포구 신길로60길 31-2, 서울특별시 영등포구 당산로29길 9, 서울특별시 영등포구 시흥대로183길 9-2]',\n",
              " '[서울특별시 영등포구 선유로 63, 서울특별시 영등포구 여의대방로 386, 서울특별시 용산구 원효로64길 25, 서울특별시 용산구 이촌로2가길 75, 서울특별시 용산구 이태원로36길 7, 서울특별시 용산구 효창원로 160, 서울특별시 용산구 효창원로 39, 서울특별시 용산구 서빙고로 17]',\n",
              " '[서울특별시 은평구 통일로 1045, 서울특별시 은평구 연서로25길 22, 서울특별시 은평구 백련산로 38, 서울특별시 은평구 진흥로7나길 12-5, 서울시 종로구 필운대로 86, 서울특별시 중구 다산로29길 10, 서울특별시 중구 서소문로6길 16, 서울특별시 중구 손기정로 101]',\n",
              " '[서울특별시 중구 동호로5길 19, 서울특별시 중구 다산로44길 85, 서울특별시 중랑구 신내역로1길 145]']"
            ]
          },
          "metadata": {
            "tags": []
          },
          "execution_count": 288
        }
      ]
    },
    {
      "cell_type": "code",
      "metadata": {
        "id": "35vuUJ6O51uw"
      },
      "source": [
        "# 센터리스트 변환\n",
        "center_str = ''.join(center_list).replace('][',', ').replace('[','').replace(']','')\n",
        "ct_list = center_str.split(', ')\n",
        "\n",
        "# 주소리스트 변환\n",
        "addr_str = ''.join(addr_list).replace('][',', ').replace('[','').replace(']','')\n",
        "adr_list = addr_str.split(', ')"
      ],
      "execution_count": null,
      "outputs": []
    },
    {
      "cell_type": "code",
      "metadata": {
        "id": "D45MKhuz4m4g"
      },
      "source": [
        "# 돌봄 수 리스트 변환\n",
        "care_str = ''.join(care_list).replace('][',', ').replace('[','').replace(']','')\n",
        "reg_,tmp_ = [],[]\n",
        "cr_list = care_str.split(', ')\n",
        "for i in range(len(cr_list)):\n",
        "  if '상시' in cr_list[i]:\n",
        "      reg_.append(re.sub('[^0-9]','',cr_list[i]))\n",
        "  elif '일시' in cr_list[i]:\n",
        "      tmp_.append(re.sub('[^0-9]','',cr_list[i]))"
      ],
      "execution_count": null,
      "outputs": []
    },
    {
      "cell_type": "code",
      "metadata": {
        "id": "hIkGfKHx6ZvO"
      },
      "source": [
        "center_df = pd.DataFrame()\n",
        "center_df['센터'] = ct_list\n",
        "center_df['주소'] = adr_list\n",
        "center_df['상시돌봄'] = reg_\n",
        "center_df['일시돌봄'] = tmp_"
      ],
      "execution_count": null,
      "outputs": []
    },
    {
      "cell_type": "code",
      "metadata": {
        "id": "-Pax4-wG6xGP",
        "outputId": "b348ff88-afa5-4bc7-aaec-3d4264b9e08e",
        "colab": {
          "base_uri": "https://localhost:8080/",
          "height": 419
        }
      },
      "source": [
        "center_df"
      ],
      "execution_count": null,
      "outputs": [
        {
          "output_type": "execute_result",
          "data": {
            "text/html": [
              "<div>\n",
              "<style scoped>\n",
              "    .dataframe tbody tr th:only-of-type {\n",
              "        vertical-align: middle;\n",
              "    }\n",
              "\n",
              "    .dataframe tbody tr th {\n",
              "        vertical-align: top;\n",
              "    }\n",
              "\n",
              "    .dataframe thead th {\n",
              "        text-align: right;\n",
              "    }\n",
              "</style>\n",
              "<table border=\"1\" class=\"dataframe\">\n",
              "  <thead>\n",
              "    <tr style=\"text-align: right;\">\n",
              "      <th></th>\n",
              "      <th>센터</th>\n",
              "      <th>주소</th>\n",
              "      <th>상시돌봄</th>\n",
              "      <th>일시돌봄</th>\n",
              "    </tr>\n",
              "  </thead>\n",
              "  <tbody>\n",
              "    <tr>\n",
              "      <th>0</th>\n",
              "      <td>강남1호점 우리동네키움센터강남 다함께키움센터태화</td>\n",
              "      <td>서울특별시 강남구 광평로 185</td>\n",
              "      <td>45</td>\n",
              "      <td>3</td>\n",
              "    </tr>\n",
              "    <tr>\n",
              "      <th>1</th>\n",
              "      <td>강남2호점 우리동네키움센터강남 다함께키움센터역삼</td>\n",
              "      <td>서울특별시 강남구 논현로64길 7</td>\n",
              "      <td>20</td>\n",
              "      <td>4</td>\n",
              "    </tr>\n",
              "    <tr>\n",
              "      <th>2</th>\n",
              "      <td>강남3호점 우리동네키움센터강남 다함께키움센터청담</td>\n",
              "      <td>서울특별시 강남구 영동대로131길 26</td>\n",
              "      <td>20</td>\n",
              "      <td>4</td>\n",
              "    </tr>\n",
              "    <tr>\n",
              "      <th>3</th>\n",
              "      <td>강남4호점 우리동네키움센터미미위 세곡 키움센터</td>\n",
              "      <td>서울특별시 강남구 밤고개로 231</td>\n",
              "      <td>25</td>\n",
              "      <td>5</td>\n",
              "    </tr>\n",
              "    <tr>\n",
              "      <th>4</th>\n",
              "      <td>강동1호점 우리동네키움센터상상나루來키움센터</td>\n",
              "      <td>서울특별시 강동구 올림픽로98가길 28</td>\n",
              "      <td>20</td>\n",
              "      <td>4</td>\n",
              "    </tr>\n",
              "    <tr>\n",
              "      <th>...</th>\n",
              "      <td>...</td>\n",
              "      <td>...</td>\n",
              "      <td>...</td>\n",
              "      <td>...</td>\n",
              "    </tr>\n",
              "    <tr>\n",
              "      <th>86</th>\n",
              "      <td>중구2호점 우리동네키움센터모든아이 중림센터</td>\n",
              "      <td>서울특별시 중구 서소문로6길 16</td>\n",
              "      <td>40</td>\n",
              "      <td>8</td>\n",
              "    </tr>\n",
              "    <tr>\n",
              "      <th>87</th>\n",
              "      <td>중구3호점 우리동네키움센터모든아이 손기정센터</td>\n",
              "      <td>서울특별시 중구 손기정로 101</td>\n",
              "      <td>40</td>\n",
              "      <td>8</td>\n",
              "    </tr>\n",
              "    <tr>\n",
              "      <th>88</th>\n",
              "      <td>중구4호점 우리동네키움센터모든아이 약수센터</td>\n",
              "      <td>서울특별시 중구 동호로5길 19</td>\n",
              "      <td>80</td>\n",
              "      <td>16</td>\n",
              "    </tr>\n",
              "    <tr>\n",
              "      <th>89</th>\n",
              "      <td>중구5호점 우리동네키움센터모든아이 신당5동센터</td>\n",
              "      <td>서울특별시 중구 다산로44길 85</td>\n",
              "      <td>30</td>\n",
              "      <td>6</td>\n",
              "    </tr>\n",
              "    <tr>\n",
              "      <th>90</th>\n",
              "      <td>중랑1호점 신내동우리동네키움센터중랑아동돌봄센터</td>\n",
              "      <td>서울특별시 중랑구 신내역로1길 145</td>\n",
              "      <td>22</td>\n",
              "      <td>4</td>\n",
              "    </tr>\n",
              "  </tbody>\n",
              "</table>\n",
              "<p>91 rows × 4 columns</p>\n",
              "</div>"
            ],
            "text/plain": [
              "                            센터                     주소 상시돌봄 일시돌봄\n",
              "0   강남1호점 우리동네키움센터강남 다함께키움센터태화      서울특별시 강남구 광평로 185   45    3\n",
              "1   강남2호점 우리동네키움센터강남 다함께키움센터역삼     서울특별시 강남구 논현로64길 7   20    4\n",
              "2   강남3호점 우리동네키움센터강남 다함께키움센터청담  서울특별시 강남구 영동대로131길 26   20    4\n",
              "3    강남4호점 우리동네키움센터미미위 세곡 키움센터     서울특별시 강남구 밤고개로 231   25    5\n",
              "4      강동1호점 우리동네키움센터상상나루來키움센터  서울특별시 강동구 올림픽로98가길 28   20    4\n",
              "..                         ...                    ...  ...  ...\n",
              "86     중구2호점 우리동네키움센터모든아이 중림센터     서울특별시 중구 서소문로6길 16   40    8\n",
              "87    중구3호점 우리동네키움센터모든아이 손기정센터      서울특별시 중구 손기정로 101   40    8\n",
              "88     중구4호점 우리동네키움센터모든아이 약수센터      서울특별시 중구 동호로5길 19   80   16\n",
              "89   중구5호점 우리동네키움센터모든아이 신당5동센터     서울특별시 중구 다산로44길 85   30    6\n",
              "90   중랑1호점 신내동우리동네키움센터중랑아동돌봄센터   서울특별시 중랑구 신내역로1길 145   22    4\n",
              "\n",
              "[91 rows x 4 columns]"
            ]
          },
          "metadata": {
            "tags": []
          },
          "execution_count": 292
        }
      ]
    },
    {
      "cell_type": "code",
      "metadata": {
        "id": "cCQjm9fi7eG8"
      },
      "source": [
        "center_df.to_csv('/content/gdrive/My Drive/서울콘/우리동네키움포털.csv')\n",
        "center_df.to_pickle('/content/gdrive/My Drive/서울콘/우리동네키움포털.pkl')"
      ],
      "execution_count": null,
      "outputs": []
    },
    {
      "cell_type": "code",
      "metadata": {
        "id": "ESJg96TOVSKR",
        "outputId": "07acbe8f-6463-4595-b879-2c81dd9723db",
        "colab": {
          "base_uri": "https://localhost:8080/",
          "height": 419
        }
      },
      "source": [
        "pd.read_pickle('/content/gdrive/My Drive/서울콘/우리동네키움포털.pkl')"
      ],
      "execution_count": null,
      "outputs": [
        {
          "output_type": "execute_result",
          "data": {
            "text/html": [
              "<div>\n",
              "<style scoped>\n",
              "    .dataframe tbody tr th:only-of-type {\n",
              "        vertical-align: middle;\n",
              "    }\n",
              "\n",
              "    .dataframe tbody tr th {\n",
              "        vertical-align: top;\n",
              "    }\n",
              "\n",
              "    .dataframe thead th {\n",
              "        text-align: right;\n",
              "    }\n",
              "</style>\n",
              "<table border=\"1\" class=\"dataframe\">\n",
              "  <thead>\n",
              "    <tr style=\"text-align: right;\">\n",
              "      <th></th>\n",
              "      <th>센터</th>\n",
              "      <th>주소</th>\n",
              "      <th>상시돌봄</th>\n",
              "      <th>일시돌봄</th>\n",
              "    </tr>\n",
              "  </thead>\n",
              "  <tbody>\n",
              "    <tr>\n",
              "      <th>0</th>\n",
              "      <td>강남1호점 우리동네키움센터강남 다함께키움센터태화</td>\n",
              "      <td>서울특별시 강남구 광평로 185</td>\n",
              "      <td>45</td>\n",
              "      <td>3</td>\n",
              "    </tr>\n",
              "    <tr>\n",
              "      <th>1</th>\n",
              "      <td>강남2호점 우리동네키움센터강남 다함께키움센터역삼</td>\n",
              "      <td>서울특별시 강남구 논현로64길 7</td>\n",
              "      <td>20</td>\n",
              "      <td>4</td>\n",
              "    </tr>\n",
              "    <tr>\n",
              "      <th>2</th>\n",
              "      <td>강남3호점 우리동네키움센터강남 다함께키움센터청담</td>\n",
              "      <td>서울특별시 강남구 영동대로131길 26</td>\n",
              "      <td>20</td>\n",
              "      <td>4</td>\n",
              "    </tr>\n",
              "    <tr>\n",
              "      <th>3</th>\n",
              "      <td>강남4호점 우리동네키움센터미미위 세곡 키움센터</td>\n",
              "      <td>서울특별시 강남구 밤고개로 231</td>\n",
              "      <td>25</td>\n",
              "      <td>5</td>\n",
              "    </tr>\n",
              "    <tr>\n",
              "      <th>4</th>\n",
              "      <td>강동1호점 우리동네키움센터상상나루來키움센터</td>\n",
              "      <td>서울특별시 강동구 올림픽로98가길 28</td>\n",
              "      <td>20</td>\n",
              "      <td>4</td>\n",
              "    </tr>\n",
              "    <tr>\n",
              "      <th>...</th>\n",
              "      <td>...</td>\n",
              "      <td>...</td>\n",
              "      <td>...</td>\n",
              "      <td>...</td>\n",
              "    </tr>\n",
              "    <tr>\n",
              "      <th>86</th>\n",
              "      <td>중구2호점 우리동네키움센터모든아이 중림센터</td>\n",
              "      <td>서울특별시 중구 서소문로6길 16</td>\n",
              "      <td>40</td>\n",
              "      <td>8</td>\n",
              "    </tr>\n",
              "    <tr>\n",
              "      <th>87</th>\n",
              "      <td>중구3호점 우리동네키움센터모든아이 손기정센터</td>\n",
              "      <td>서울특별시 중구 손기정로 101</td>\n",
              "      <td>40</td>\n",
              "      <td>8</td>\n",
              "    </tr>\n",
              "    <tr>\n",
              "      <th>88</th>\n",
              "      <td>중구4호점 우리동네키움센터모든아이 약수센터</td>\n",
              "      <td>서울특별시 중구 동호로5길 19</td>\n",
              "      <td>80</td>\n",
              "      <td>16</td>\n",
              "    </tr>\n",
              "    <tr>\n",
              "      <th>89</th>\n",
              "      <td>중구5호점 우리동네키움센터모든아이 신당5동센터</td>\n",
              "      <td>서울특별시 중구 다산로44길 85</td>\n",
              "      <td>30</td>\n",
              "      <td>6</td>\n",
              "    </tr>\n",
              "    <tr>\n",
              "      <th>90</th>\n",
              "      <td>중랑1호점 신내동우리동네키움센터중랑아동돌봄센터</td>\n",
              "      <td>서울특별시 중랑구 신내역로1길 145</td>\n",
              "      <td>22</td>\n",
              "      <td>4</td>\n",
              "    </tr>\n",
              "  </tbody>\n",
              "</table>\n",
              "<p>91 rows × 4 columns</p>\n",
              "</div>"
            ],
            "text/plain": [
              "                            센터                     주소 상시돌봄 일시돌봄\n",
              "0   강남1호점 우리동네키움센터강남 다함께키움센터태화      서울특별시 강남구 광평로 185   45    3\n",
              "1   강남2호점 우리동네키움센터강남 다함께키움센터역삼     서울특별시 강남구 논현로64길 7   20    4\n",
              "2   강남3호점 우리동네키움센터강남 다함께키움센터청담  서울특별시 강남구 영동대로131길 26   20    4\n",
              "3    강남4호점 우리동네키움센터미미위 세곡 키움센터     서울특별시 강남구 밤고개로 231   25    5\n",
              "4      강동1호점 우리동네키움센터상상나루來키움센터  서울특별시 강동구 올림픽로98가길 28   20    4\n",
              "..                         ...                    ...  ...  ...\n",
              "86     중구2호점 우리동네키움센터모든아이 중림센터     서울특별시 중구 서소문로6길 16   40    8\n",
              "87    중구3호점 우리동네키움센터모든아이 손기정센터      서울특별시 중구 손기정로 101   40    8\n",
              "88     중구4호점 우리동네키움센터모든아이 약수센터      서울특별시 중구 동호로5길 19   80   16\n",
              "89   중구5호점 우리동네키움센터모든아이 신당5동센터     서울특별시 중구 다산로44길 85   30    6\n",
              "90   중랑1호점 신내동우리동네키움센터중랑아동돌봄센터   서울특별시 중랑구 신내역로1길 145   22    4\n",
              "\n",
              "[91 rows x 4 columns]"
            ]
          },
          "metadata": {
            "tags": []
          },
          "execution_count": 294
        }
      ]
    },
    {
      "cell_type": "code",
      "metadata": {
        "id": "mutpPdMn75A6"
      },
      "source": [
        ""
      ],
      "execution_count": null,
      "outputs": []
    }
  ]
}